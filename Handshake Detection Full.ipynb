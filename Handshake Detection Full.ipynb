{
 "cells": [
  {
   "cell_type": "code",
   "execution_count": 21,
   "metadata": {},
   "outputs": [],
   "source": [
    "import numpy as np\n",
    "import cv2\n",
    "import matplotlib.pyplot as plt\n",
    "from scipy import stats\n",
    "import glob\n",
    "import os\n",
    "from natsort import natsorted\n",
    "plt.rcParams['figure.figsize'] = [10, 5]"
   ]
  },
  {
   "cell_type": "code",
   "execution_count": 49,
   "metadata": {},
   "outputs": [],
   "source": [
    "path = 'viz_predictions/hug1'\n",
    "savepath = path+'/detectionXY'\n",
    "\n",
    "if not os.path.exists(savepath):\n",
    "    os.makedirs(savepath)"
   ]
  },
  {
   "cell_type": "code",
   "execution_count": 50,
   "metadata": {},
   "outputs": [],
   "source": [
    "#\n",
    "for image in natsorted(glob.glob(path+'/rgb/'+'*.jpg')):\n",
    "    im_num = os.path.splitext(os.path.basename(image))[0]\n",
    "    img = cv2.imread(path+'/gray/'+os.path.split(image)[1], 0)\n",
    "    img_rgb = cv2.imread(path+'/rgb/'+os.path.split(image)[1], 1)\n",
    "    keypoints = np.load(path+'/keypoints/'+im_num+'.npy')\n",
    "    handloc = keypoints[:,:,:,0:2].astype(int)\n",
    "    hands3D = handloc\n",
    "    \n",
    "    #Extracting depth values of each hand named as 'person_number__left/right'\n",
    "#     hands3D = np.zeros(keypoints.shape)\n",
    "#     num_ppl = keypoints.shape[1]\n",
    "\n",
    "#     for pers in range(num_ppl):\n",
    "#         for hand in range(hands3D.shape[0]):\n",
    "#             depth = img[handloc[hand,pers,:,1], handloc[hand,pers,:,0]] \n",
    "#             hands3D[hand,pers,:,2] = depth\n",
    "#         hands3D[:,pers,:,0:2] = handloc[:,pers,:,:]\n",
    "#         hands3D = hands3D.astype(int)\n",
    "    \n",
    "    start_pt =[]\n",
    "    end_pt = []\n",
    "\n",
    "    for i in range(hands3D.shape[1]):\n",
    "        for j in range(hands3D.shape[1]):\n",
    "            if i != j:\n",
    "                diff1 = abs(hands3D[0,i,:,:] - hands3D[0,j,:,:])\n",
    "                eucdis1 = np.linalg.norm(diff1, axis=1)\n",
    "                mode1, count1 = stats.mode(eucdis1)\n",
    "\n",
    "                #Detect if Handshake and find min and max coordinates for bounding box and append to lisr\n",
    "                if sum(eucdis1) < 185 and sum(eucdis1) != 0:\n",
    "#                     print('Handshake1 detected. RUN!!!')\n",
    "                    xs1 = np.argmin(np.hstack((hands3D[0,i,:,1], hands3D[0,j,:,1])))\n",
    "                    ys1 = np.argmin(np.hstack((hands3D[0,i,:,0], hands3D[0,j,:,0])))\n",
    "                    xe1 = np.argmax(np.hstack((hands3D[0,i,:,1], hands3D[0,j,:,1])))\n",
    "                    ye1 = np.argmax(np.hstack((hands3D[0,i,:,0], hands3D[0,j,:,0])))\n",
    "                    start1 = (np.hstack((hands3D[0,i,:,0], hands3D[0,j,:,0]))[ys1], np.hstack((hands3D[0,i,:,1], hands3D[0,j,:,1]))[xs1])\n",
    "                    end1 = (np.hstack((hands3D[0,i,:,0], hands3D[0,j,:,0]))[ye1], np.hstack((hands3D[0,i,:,1], hands3D[0,j,:,1]))[xe1])\n",
    "                    start_pt.append(start1)\n",
    "                    end_pt.append(end1)\n",
    "\n",
    "                diff2 = abs(hands3D[0,i,:,:] - hands3D[1,j,:,:])\n",
    "                eucdis2 = np.linalg.norm(diff2, axis=1)\n",
    "                mode2, count2 = stats.mode(eucdis2)\n",
    "\n",
    "                #Detect if Handshake and find min and max coordinates for bounding box and append to lisr\n",
    "                if sum(eucdis2) < 185 and sum(eucdis2) != 0:\n",
    "#                     print('Handshake2 detected. RUN!!!')\n",
    "                    xs2 = np.argmin(np.hstack((hands3D[0,i,:,1], hands3D[1,j,:,1])))\n",
    "                    ys2 = np.argmin(np.hstack((hands3D[0,i,:,0], hands3D[1,j,:,0])))\n",
    "                    xe2 = np.argmax(np.hstack((hands3D[0,i,:,1], hands3D[1,j,:,1])))\n",
    "                    ye2 = np.argmax(np.hstack((hands3D[0,i,:,0], hands3D[1,j,:,0])))\n",
    "                    start2 = (np.hstack((hands3D[0,i,:,0], hands3D[1,j,:,0]))[ys2], np.hstack((hands3D[0,i,:,1], hands3D[1,j,:,1]))[xs2])\n",
    "                    end2 = (np.hstack((hands3D[0,i,:,0], hands3D[1,j,:,0]))[ye2], np.hstack((hands3D[0,i,:,1], hands3D[1,j,:,1]))[xe2])\n",
    "                    start_pt.append(start2)\n",
    "                    end_pt.append(end2)\n",
    "\n",
    "                diff3 = abs(hands3D[1,i,:,:] - hands3D[0,j,:,:])\n",
    "                eucdis3 = np.linalg.norm(diff3, axis=1)\n",
    "                mode3, count3 = stats.mode(eucdis3)\n",
    "\n",
    "                #Detect if Handshake and find min and max coordinates for bounding box and append to lisr\n",
    "                if sum(eucdis3) < 185 and sum(eucdis3) != 0:\n",
    "#                     print('Handshake3 detected. RUN!!!')\n",
    "                    xs3 = np.argmin(np.hstack((hands3D[1,i,:,1], hands3D[0,j,:,1])))\n",
    "                    ys3 = np.argmin(np.hstack((hands3D[1,i,:,0], hands3D[0,j,:,0])))\n",
    "                    xe3 = np.argmax(np.hstack((hands3D[1,i,:,1], hands3D[0,j,:,1])))\n",
    "                    ye3 = np.argmax(np.hstack((hands3D[1,i,:,0], hands3D[0,j,:,0])))\n",
    "                    start3 = (np.hstack((hands3D[1,i,:,0], hands3D[0,j,:,0]))[ys3], np.hstack((hands3D[1,i,:,1], hands3D[0,j,:,1]))[xs3])\n",
    "                    end3 = (np.hstack((hands3D[1,i,:,0], hands3D[0,j,:,0]))[ye3], np.hstack((hands3D[1,i,:,1], hands3D[0,j,:,1]))[xe3])\n",
    "                    start_pt.append(start3)\n",
    "                    end_pt.append(end3)\n",
    "\n",
    "                diff4 = abs(hands3D[1,i,:,:] - hands3D[1,j,:,:])\n",
    "                eucdis4 = np.linalg.norm(diff4, axis=1)\n",
    "                mode4, count4 = stats.mode(eucdis4)\n",
    "\n",
    "                #Detect if Handshake and find min and max coordinates for bounding box and append to lisr\n",
    "                if sum(eucdis4) < 185 and sum(eucdis4) != 0:\n",
    "#                     print('Handshake4 detected. RUN!!!')\n",
    "                    xs4 = np.argmin(np.hstack((hands3D[1,i,:,1], hands3D[1,j,:,1])))\n",
    "                    ys4 = np.argmin(np.hstack((hands3D[1,i,:,0], hands3D[1,j,:,0])))\n",
    "                    xe4 = np.argmax(np.hstack((hands3D[1,i,:,1], hands3D[1,j,:,1])))\n",
    "                    ye4 = np.argmax(np.hstack((hands3D[1,i,:,0], hands3D[1,j,:,0])))\n",
    "                    start4 = (np.hstack((hands3D[1,i,:,0], hands3D[1,j,:,0]))[ys4], np.hstack((hands3D[1,i,:,1], hands3D[1,j,:,1]))[xs4])\n",
    "                    end4 = (np.hstack((hands3D[1,i,:,0], hands3D[1,j,:,0]))[ye4], np.hstack((hands3D[1,i,:,1], hands3D[1,j,:,1]))[xe4])\n",
    "                    start_pt.append(start4)\n",
    "                    end_pt.append(end4)\n",
    "\n",
    "\n",
    "    #Plot bounding box\n",
    "    for contact in range(len(start_pt)):\n",
    "        cv2.rectangle(img_rgb, start_pt[contact], end_pt[contact],[0,0,255], 2)\n",
    "#     plt.imshow(cv2.cvtColor(img_rgb,cv2.COLOR_BGR2RGB))\n",
    "#     plt.show()\n",
    "    cv2.imwrite(os.path.join(savepath, os.path.basename(image)), img_rgb)\n",
    "    "
   ]
  },
  {
   "cell_type": "code",
   "execution_count": null,
   "metadata": {},
   "outputs": [],
   "source": []
  },
  {
   "cell_type": "code",
   "execution_count": null,
   "metadata": {},
   "outputs": [],
   "source": []
  },
  {
   "cell_type": "code",
   "execution_count": null,
   "metadata": {},
   "outputs": [],
   "source": []
  },
  {
   "cell_type": "code",
   "execution_count": null,
   "metadata": {},
   "outputs": [],
   "source": []
  },
  {
   "cell_type": "code",
   "execution_count": null,
   "metadata": {},
   "outputs": [],
   "source": []
  },
  {
   "cell_type": "code",
   "execution_count": null,
   "metadata": {},
   "outputs": [],
   "source": []
  },
  {
   "cell_type": "code",
   "execution_count": null,
   "metadata": {},
   "outputs": [],
   "source": []
  },
  {
   "cell_type": "code",
   "execution_count": null,
   "metadata": {},
   "outputs": [],
   "source": []
  },
  {
   "cell_type": "code",
   "execution_count": null,
   "metadata": {},
   "outputs": [],
   "source": []
  },
  {
   "cell_type": "code",
   "execution_count": null,
   "metadata": {},
   "outputs": [],
   "source": []
  },
  {
   "cell_type": "code",
   "execution_count": null,
   "metadata": {},
   "outputs": [],
   "source": []
  }
 ],
 "metadata": {
  "kernelspec": {
   "display_name": "Python 3.7 (vision)",
   "language": "python",
   "name": "vision"
  },
  "language_info": {
   "codemirror_mode": {
    "name": "ipython",
    "version": 3
   },
   "file_extension": ".py",
   "mimetype": "text/x-python",
   "name": "python",
   "nbconvert_exporter": "python",
   "pygments_lexer": "ipython3",
   "version": "3.7.9"
  }
 },
 "nbformat": 4,
 "nbformat_minor": 4
}
