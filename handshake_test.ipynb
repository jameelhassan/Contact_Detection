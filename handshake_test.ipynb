{
 "cells": [
  {
   "cell_type": "code",
   "execution_count": 2,
   "metadata": {},
   "outputs": [],
   "source": [
    "import numpy as np\n",
    "import cv2\n",
    "import matplotlib.pyplot as plt\n",
    "from scipy import stats\n",
    "import glob\n",
    "import os\n",
    "from natsort import natsorted\n",
    "from util import *\n",
    "plt.rcParams['figure.figsize'] = [10, 5]"
   ]
  },
  {
   "cell_type": "code",
   "execution_count": 3,
   "metadata": {},
   "outputs": [],
   "source": [
    "videopath = 'videos/ut-interaction_set2/seq18.avi'\n",
    "vid_name = os.path.split(videopath)[1].split('.')[0]\n",
    "savepath = 'results/'+vid_name\n",
    "output_name = savepath+'/'+vid_name+'.json'"
   ]
  },
  {
   "cell_type": "code",
   "execution_count": 4,
   "metadata": {},
   "outputs": [],
   "source": [
    "json_data = read_json(output_name)\n",
    "\n",
    "cv2.namedWindow('frame')\n",
    "cap = cv2.VideoCapture(videopath)\n",
    "\n",
    "frame_num = 0\n",
    "\n",
    "while (1):\n",
    "    ret, frame = cap.read()\n",
    "\n",
    "    start_pt = []\n",
    "    end_pt = []\n",
    "\n",
    "    # Create start point and end point arrays\n",
    "    for ind in json_data:\n",
    "        if str(ind).isdigit() and json_data[ind] != {}:\n",
    "            if int(ind) == frame_num:\n",
    "                for shake in json_data[ind]:\n",
    "                    start_pt.append(json_data[ind][shake]['start_pt'])\n",
    "                    end_pt.append(json_data[ind][shake]['end_pt'])\n",
    "\n",
    "    # Draw bounding box\n",
    "    if ret == True:\n",
    "        img_ = np.array(frame, copy=True)\n",
    "        for s_id in range(len(start_pt)):\n",
    "            cv2.rectangle(img_, tuple(start_pt[s_id]), tuple(end_pt[s_id]), [0, 0, 255], 2)\n",
    "        cv2.imshow('frame', img_)\n",
    "\n",
    "        frame_num += 1\n",
    "\n",
    "        k = cv2.waitKey(0) & 0xff\n",
    "        if k == ord('q'):\n",
    "            break\n",
    "\n",
    "    else:\n",
    "        cv2.destroyAllWindows()\n",
    "        break"
   ]
  },
  {
   "cell_type": "code",
   "execution_count": null,
   "metadata": {},
   "outputs": [],
   "source": []
  }
 ],
 "metadata": {
  "kernelspec": {
   "display_name": "Python 3.7 (vision)",
   "language": "python",
   "name": "vision"
  },
  "language_info": {
   "codemirror_mode": {
    "name": "ipython",
    "version": 3
   },
   "file_extension": ".py",
   "mimetype": "text/x-python",
   "name": "python",
   "nbconvert_exporter": "python",
   "pygments_lexer": "ipython3",
   "version": "3.7.9"
  }
 },
 "nbformat": 4,
 "nbformat_minor": 4
}
